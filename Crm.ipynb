{
  "nbformat": 4,
  "nbformat_minor": 0,
  "metadata": {
    "colab": {
      "provenance": [],
      "authorship_tag": "ABX9TyOf3/lWzjb13McExx2SIuvX",
      "include_colab_link": true
    },
    "kernelspec": {
      "name": "python3",
      "display_name": "Python 3"
    },
    "language_info": {
      "name": "python"
    }
  },
  "cells": [
    {
      "cell_type": "markdown",
      "metadata": {
        "id": "view-in-github",
        "colab_type": "text"
      },
      "source": [
        "<a href=\"https://colab.research.google.com/github/vijayanalan/Crm/blob/main/Crm.ipynb\" target=\"_parent\"><img src=\"https://colab.research.google.com/assets/colab-badge.svg\" alt=\"Open In Colab\"/></a>"
      ]
    },
    {
      "cell_type": "code",
      "execution_count": 1,
      "metadata": {
        "colab": {
          "base_uri": "https://localhost:8080/"
        },
        "id": "rD4Ga5ju0foY",
        "outputId": "5fc897a9-5447-4bb9-a372-19d1701cdcbb"
      },
      "outputs": [
        {
          "output_type": "stream",
          "name": "stdout",
          "text": [
            "Customer added with ID: 1\n",
            "Customer added with ID: 2\n",
            "\n",
            "Customer List:\n",
            "ID: 1, Name: Alice Smith, Email: alice@example.com, Phone: 123-456-7890\n",
            "ID: 2, Name: Bob Johnson, Email: bob@example.com, Phone: 098-765-4321\n",
            "Customer updated.\n",
            "\n",
            "Updated Customer List:\n",
            "ID: 1, Name: Alice Smith, Email: alice@example.com, Phone: 111-222-3333\n",
            "ID: 2, Name: Bob Johnson, Email: bob@example.com, Phone: 098-765-4321\n",
            "Customer deleted.\n",
            "\n",
            "Customer List After Deletion:\n",
            "ID: 1, Name: Alice Smith, Email: alice@example.com, Phone: 111-222-3333\n"
          ]
        }
      ],
      "source": [
        "\n",
        "# Simple CRM Class\n",
        "class SimpleCRM:\n",
        "    def __init__(self):\n",
        "        self.customers = {}\n",
        "        self.customer_id = 1\n",
        "\n",
        "    def add_customer(self, name, email, phone):\n",
        "        self.customers[self.customer_id] = {\n",
        "            'Name': name,\n",
        "            'Email': email,\n",
        "            'Phone': phone\n",
        "        }\n",
        "        print(f\"Customer added with ID: {self.customer_id}\")\n",
        "        self.customer_id += 1\n",
        "\n",
        "    def view_customers(self):\n",
        "        if not self.customers:\n",
        "            print(\"No customers found.\")\n",
        "            return\n",
        "        for cid, details in self.customers.items():\n",
        "            print(f\"ID: {cid}, Name: {details['Name']}, Email: {details['Email']}, Phone: {details['Phone']}\")\n",
        "\n",
        "    def update_customer(self, cid, name=None, email=None, phone=None):\n",
        "        if cid not in self.customers:\n",
        "            print(\"Customer ID not found.\")\n",
        "            return\n",
        "        if name:\n",
        "            self.customers[cid]['Name'] = name\n",
        "        if email:\n",
        "            self.customers[cid]['Email'] = email\n",
        "        if phone:\n",
        "            self.customers[cid]['Phone'] = phone\n",
        "        print(\"Customer updated.\")\n",
        "\n",
        "    def delete_customer(self, cid):\n",
        "        if cid in self.customers:\n",
        "            del self.customers[cid]\n",
        "            print(\"Customer deleted.\")\n",
        "        else:\n",
        "            print(\"Customer ID not found.\")\n",
        "\n",
        "# Create an instance of SimpleCRM\n",
        "crm = SimpleCRM()\n",
        "\n",
        "# Add customers\n",
        "crm.add_customer(\"Alice Smith\", \"alice@example.com\", \"123-456-7890\")\n",
        "crm.add_customer(\"Bob Johnson\", \"bob@example.com\", \"098-765-4321\")\n",
        "\n",
        "# View customers\n",
        "print(\"\\nCustomer List:\")\n",
        "crm.view_customers()\n",
        "\n",
        "# Update a customer\n",
        "crm.update_customer(1, phone=\"111-222-3333\")\n",
        "\n",
        "# View customers again to see the update\n",
        "print(\"\\nUpdated Customer List:\")\n",
        "crm.view_customers()\n",
        "\n",
        "# Delete a customer\n",
        "crm.delete_customer(2)\n",
        "\n",
        "# View customers after deletion\n",
        "print(\"\\nCustomer List After Deletion:\")\n",
        "crm.view_customers()"
      ]
    }
  ]
}